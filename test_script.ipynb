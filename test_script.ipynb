{
 "cells": [
  {
   "cell_type": "code",
   "execution_count": 418,
   "metadata": {},
   "outputs": [
    {
     "name": "stdout",
     "output_type": "stream",
     "text": [
      "Number of unique colors\n",
      " 15\n"
     ]
    },
    {
     "data": {
      "image/png": "[encoded data removed]",
      "text/plain": [
       "<Figure size 640x480 with 1 Axes>"
      ]
     },
     "metadata": {},
     "output_type": "display_data"
    }
   ],
   "source": [
    "#%matplotlib inline\n",
    "import matplotlib as mpl\n",
    "import imageio\n",
    "mpl.rcParams['figure.dpi']=100\n",
    "import numpy as np\n",
    "from imageio import imread\n",
    "from skimage.transform import rescale\n",
    "from skimage.color import rgb2lab, lab2rgb\n",
    "from sklearn.metrics.pairwise import euclidean_distances\n",
    "import matplotlib.pyplot as plt\n",
    "import types\n",
    "from mpl_toolkits import mplot3d\n",
    "\n",
    "uniqueColors = {}\n",
    "\n",
    "def run(K = 4, image_width = 16):\n",
    "\t# Prepare image\n",
    "\timage_raw = imageio.v2.imread('image_files/gates.jpg')\n",
    "\timage = rescale(image_raw, image_width/image_raw.shape[0], mode='reflect', channel_axis=2, anti_aliasing=True)\n",
    "\tX = rgb2lab(image).reshape(-1, 3)\n",
    "\n",
    "\tdef cluster_assignments(X, Y):\n",
    "\t\treturn np.argmin(euclidean_distances(X,Y), axis=1)\n",
    "\n",
    "\tcenters = np.array([X.mean(0) + (np.random.randn(3)/10) for _ in range(K)])\n",
    "\ty_kmeans = cluster_assignments(X, centers)\n",
    "\n",
    "\t# repeat estimation a number of times (could do something smarter, like comparing if clusters change)\n",
    "\tfor i in range(30):\n",
    "\t\t# assign each point to the closest center\n",
    "\t\ty_kmeans = cluster_assignments(X, centers)\n",
    "\n",
    "\t\t# move the centers to the mean of their assigned points (if any)\n",
    "\t\tfor i, c in enumerate(centers):\n",
    "\t\t\tpoints = X[y_kmeans == i]\n",
    "\t\t\tif len(points):\n",
    "\t\t\t\tcenters[i] = points.mean(0)\n",
    "\n",
    "\tfor c in centers:\n",
    "\t\tname = ''.join(\"{0}|\".format(n) for n in c)\n",
    "\t\tif (name in uniqueColors.keys()):\n",
    "\t\t\tuniqueColors[name] = uniqueColors[name]+1\n",
    "\t\telse:\n",
    "\t\t\tuniqueColors[name] = 1\n",
    "\n",
    "itt = 300\n",
    "K = 4\n",
    "for i in range(0, itt):\n",
    "\trun(K)\n",
    "\n",
    "print(\"Number of unique colors\")\n",
    "print(\"\", len(uniqueColors))\n",
    "\n",
    "file = open(f\"results_{K}_{itt}.csv\", \"a\")\n",
    "for color in uniqueColors:\n",
    "\tfile.write(f\"{color};{uniqueColors[color]}\\n\")\n",
    "file.close()\n",
    "#for c in uniqueColors:\n",
    "#\tprint(c, uniqueColors[c])\n",
    "\n",
    "y_pos = np.arange(len(objects))\n",
    "\n",
    "plt.bar(range(0, len(uniqueColors)), uniqueColors.values(), align='center', alpha=0.5)\n",
    "#plt.xticks(uniqueColors.values(), uniqueColors.keys())\n",
    "#plt.ylabel('Usage')\n",
    "plt.title('Color distribution')\n",
    "\n",
    "plt.show()\n"
   ]
  },
  {
   "cell_type": "code",
   "execution_count": null,
   "metadata": {},
   "outputs": [],
   "source": []
  }
 ],
 "metadata": {
  "kernelspec": {
   "display_name": ".venv",
   "language": "python",
   "name": "python3"
  },
  "language_info": {
   "codemirror_mode": {
    "name": "ipython",
    "version": 3
   },
   "file_extension": ".py",
   "mimetype": "text/x-python",
   "name": "python",
   "nbconvert_exporter": "python",
   "pygments_lexer": "ipython3",
   "version": "3.11.5"
  }
 },
 "nbformat": 4,
 "nbformat_minor": 2
}
